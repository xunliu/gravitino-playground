{
 "cells": [
  {
   "cell_type": "markdown",
   "id": "df953e1a-b48a-4eda-b099-c89c9449fdad",
   "metadata": {},
   "source": [
    "## Gravitino access control"
   ]
  },
  {
   "cell_type": "markdown",
   "id": "3954483f-5497-45b7-900e-73916b625077",
   "metadata": {},
   "source": [
    "This demo shows that authorizing the Hive Catalog through Gravitino and then using Spark to query this hive datasource authenticates the user's operation, allowing or denying the user's operation. \n",
    "The operating username in this demo is `root`. You can log in to the Apache Ranger admin service to see the permissions.\n",
    "\n",
    "+ Apache Ranger admin service: http://localhost:6080/, the login user name is `admin` and the password is `rangerR0cks!`.\n",
    "+ Apache Gravitino access control document: https://gravitino.apache.org/docs/latest/security/access-control"
   ]
  },
  {
   "cell_type": "markdown",
   "id": "6cdaf5b0-18e1-45df-8e8f-13376e41c421",
   "metadata": {},
   "source": [
    "### Initail PySpark"
   ]
  },
  {
   "cell_type": "code",
   "execution_count": null,
   "id": "380aa111-a955-4a48-835f-8a5402bf1a4a",
   "metadata": {},
   "outputs": [],
   "source": [
    "import pyspark\n",
    "from pyspark.sql import SparkSession\n",
    "\n",
    "spark = SparkSession.builder \\\n",
    "    .appName(\"PySpark SQL Example\") \\\n",
    "    .config(\"spark.plugins\", \"org.apache.gravitino.spark.connector.plugin.GravitinoSparkPlugin\") \\\n",
    "    .config(\"spark.sql.gravitino.uri\", \"http://gravitino:8090\") \\\n",
    "    .config(\"spark.sql.gravitino.metalake\", \"metalake_demo\") \\\n",
    "    .config(\"spark.sql.gravitino.enableIcebergSupport\", \"true\") \\\n",
    "    .config(\"spark.sql.catalog.catalog_rest\", \"org.apache.iceberg.spark.SparkCatalog\") \\\n",
    "    .config(\"spark.sql.catalog.catalog_rest.type\", \"rest\") \\\n",
    "    .config(\"spark.sql.catalog.catalog_rest.uri\", \"http://gravitino:9001/iceberg/\") \\\n",
    "    .config(\"spark.locality.wait.node\", \"0\") \\\n",
    "    .config(\"spark.sql.warehouse.dir\", \"hdfs://hive:9000/user/hive/warehouse\") \\\n",
    "    .config(\"spark.jars\", \"/opt/spark/jars/*\") \\\n",
    "    .config(\"spark.driver.extraClassPath\", \"/opt/spark/conf\") \\\n",
    "    .config(\"spark.sql.extensions\", \"org.apache.kyuubi.plugin.spark.authz.ranger.RangerSparkExtension\")\\\n",
    "    .enableHiveSupport() \\\n",
    "    .getOrCreate()"
   ]
  },
  {
   "cell_type": "markdown",
   "id": "5607e732-8287-4b67-bdf1-0703f33fdccd",
   "metadata": {},
   "source": [
    "### Show databases list under the catalog_hive"
   ]
  },
  {
   "cell_type": "code",
   "execution_count": null,
   "id": "d70e6c04-bb61-4b5b-8525-41a4a5a34b54",
   "metadata": {},
   "outputs": [],
   "source": [
    "spark.sql(\"use catalog_hive\")\n",
    "spark.sql(\"show databases\").show()"
   ]
  },
  {
   "cell_type": "markdown",
   "id": "bc0d95dd-632a-4e5e-80ac-2eead689589c",
   "metadata": {},
   "source": [
    "### Anyone have permssion to create databases but doesn't create tables"
   ]
  },
  {
   "cell_type": "code",
   "execution_count": null,
   "id": "d2fae330-e932-4482-9622-bcc454844ff8",
   "metadata": {},
   "outputs": [],
   "source": [
    "spark.sql(\"CREATE DATABASE IF NOT EXISTS access_control;\")\n",
    "spark.sql(\"use catalog_hive\")\n",
    "spark.sql(\"show databases\").show()"
   ]
  },
  {
   "cell_type": "code",
   "execution_count": null,
   "id": "c34d2bfc-f13a-4dcc-ae40-f2a2874bfffa",
   "metadata": {},
   "outputs": [],
   "source": [
    "from py4j.protocol import Py4JJavaError\n",
    "\n",
    "try:\n",
    "    spark.sql(\"USE access_control;\")\n",
    "    spark.sql(\"CREATE TABLE IF NOT EXISTS employees (id INT, name STRING, age INT) PARTITIONED BY (department STRING) STORED AS PARQUET;\")\n",
    "except Py4JJavaError as e:\n",
    "    print(\"An error occurred: \", e.java_exception)"
   ]
  },
  {
   "cell_type": "markdown",
   "id": "94d8f1b9-9897-489a-9c3e-adf3de572f39",
   "metadata": {},
   "source": [
    "### Grant Spark execute user `root` has permission to `create employees` table"
   ]
  },
  {
   "cell_type": "markdown",
   "id": "59e3605c-f65c-477a-a09d-d1afe65ba7ab",
   "metadata": {},
   "source": [
    "#### Add Spark execute user `root` into Gravitino\n",
    "+ https://gravitino.apache.org/docs/0.6.0-incubating/security/access-control#add-a-user"
   ]
  },
  {
   "cell_type": "code",
   "execution_count": null,
   "id": "112c9ad0-59e7-4051-ac97-4ff33356ccd9",
   "metadata": {},
   "outputs": [],
   "source": [
    "import requests\n",
    "import json\n",
    "\n",
    "headers = {\n",
    "    'Accept': 'application/vnd.gravitino.v1+json',\n",
    "    'Content-Type': 'application/json',\n",
    "}\n",
    "\n",
    "data = {\n",
    "  \"name\": \"root\"\n",
    "}\n",
    "\n",
    "response = requests.post('http://gravitino:8090/api/metalakes/metalake_demo/users', headers=headers, data=json.dumps(data))\n",
    "\n",
    "# print the response text (the content of the requested file):\n",
    "print(response.text)"
   ]
  },
  {
   "cell_type": "markdown",
   "id": "1668e28e-2295-4edf-b3b5-2c8f82bf2ac0",
   "metadata": {},
   "source": [
    "#### Create a role have `catalog_hive.access_control` privileges `CREATE_TABLE`, `MODIFY_TABLE`, `SELECT_TABLE`\n",
    "+ https://gravitino.apache.org/docs/0.6.0-incubating/security/access-control#create-a-role"
   ]
  },
  {
   "cell_type": "code",
   "execution_count": null,
   "id": "765a7621-e290-4984-bdcf-e416a57589a8",
   "metadata": {},
   "outputs": [],
   "source": [
    "import requests\n",
    "import json\n",
    "\n",
    "url = \"http://gravitino:8090/api/metalakes/metalake_demo/roles\"\n",
    "headers = {\n",
    "    \"Accept\": \"application/vnd.gravitino.v1+json\",\n",
    "    \"Content-Type\": \"application/json\",\n",
    "}\n",
    "data = {\n",
    "    \"name\": \"role1\",\n",
    "    \"properties\": {\"k1\": \"v1\"},\n",
    "    \"securableObjects\": [\n",
    "        {\n",
    "            \"fullName\": \"catalog_hive.access_control\",\n",
    "            \"type\": \"SCHEMA\",\n",
    "            \"privileges\": [\n",
    "                {\n",
    "                    \"name\": \"CREATE_TABLE\",\n",
    "                    \"condition\": \"ALLOW\"\n",
    "                },\n",
    "                {\n",
    "                    \"name\": \"MODIFY_TABLE\",\n",
    "                    \"condition\": \"ALLOW\"\n",
    "                },\n",
    "                {\n",
    "                    \"name\": \"SELECT_TABLE\",\n",
    "                    \"condition\": \"ALLOW\"\n",
    "                }\n",
    "            ]    \n",
    "        }\n",
    "    ]\n",
    "}\n",
    "\n",
    "response = requests.post(url, headers=headers, data=json.dumps(data))\n",
    "\n",
    "# 打印响应内容\n",
    "print(response.text)"
   ]
  },
  {
   "cell_type": "markdown",
   "id": "b319bf7b-bc72-423b-8d1a-57ccc69b3f9e",
   "metadata": {},
   "source": [
    "#### Grant role to Spark execute user `root`\n",
    "+ https://gravitino.apache.org/docs/0.6.0-incubating/security/access-control#grant-roles-to-a-user"
   ]
  },
  {
   "cell_type": "code",
   "execution_count": null,
   "id": "2bccba19-82a6-427e-bb67-7c9c0226ad34",
   "metadata": {},
   "outputs": [],
   "source": [
    "import requests\n",
    "import json\n",
    "\n",
    "url = \"http://gravitino:8090/api/metalakes/metalake_demo/permissions/users/root/grant\"\n",
    "headers = {\n",
    "    \"Accept\": \"application/vnd.gravitino.v1+json\",\n",
    "    \"Content-Type\": \"application/json\",\n",
    "}\n",
    "data = {\n",
    "    \"roleNames\": [\"role1\"]\n",
    "}\n",
    "\n",
    "response = requests.put(url, headers=headers, data=json.dumps(data))\n",
    "\n",
    "# print status code and response text\n",
    "print(response.status_code)\n",
    "print(response.text)"
   ]
  },
  {
   "cell_type": "markdown",
   "id": "5b34b314-4851-493d-a3a7-f79119bc94d4",
   "metadata": {},
   "source": [
    "#### Currently, Gravitino-0.6.0 have a bug, need manual add table=`*` into `catalog_hive.access_control` Ranger policy"
   ]
  },
  {
   "cell_type": "markdown",
   "id": "f0c09c47-89d5-478f-8b01-2cf89fa13e63",
   "metadata": {},
   "source": [
    "#### Spark execute user `root` have permssion to create tables under the `catalog_hive.access_control`"
   ]
  },
  {
   "cell_type": "code",
   "execution_count": null,
   "id": "47a4611e-d735-4333-ad4b-f62c930719e4",
   "metadata": {},
   "outputs": [],
   "source": [
    "from py4j.protocol import Py4JJavaError\n",
    "\n",
    "try:\n",
    "    spark.sql(\"use catalog_hive\")\n",
    "    spark.sql(\"use access_control;\")\n",
    "    spark.sql(\"create table customers (customer_id int, customer_name varchar(100), customer_email varchar(100));\")\n",
    "    spark.sql(\"show tables in access_control\").show()\n",
    "except Py4JJavaError as e:\n",
    "    print(\"An error occurred: \", e.java_exception)"
   ]
  },
  {
   "cell_type": "code",
   "execution_count": null,
   "id": "69ebc70e-1ad0-4ea3-88f1-8e7038160d9b",
   "metadata": {},
   "outputs": [],
   "source": [
    "spark.sql(\"use catalog_hive\")\n",
    "spark.sql(\"use access_control;\")\n",
    "spark.sql(\"insert into customers (customer_id, customer_name, customer_email) values (11,'Rory Brown','rory@123.com');\")\n",
    "spark.sql(\"insert into customers (customer_id, customer_name, customer_email) values (12,'Jerry Washington','jerry@dt.com');\")\n",
    "spark.sql(\"select * from customers\").show()"
   ]
  },
  {
   "cell_type": "markdown",
   "id": "10a00bee-81a0-4d08-b508-61dbdf34f851",
   "metadata": {},
   "source": [
    "#### Delete this role, the `root` doesn't have permission access `customers` table\n",
    "+ https://gravitino.apache.org/docs/0.6.0-incubating/security/access-control#delete-a-role"
   ]
  },
  {
   "cell_type": "code",
   "execution_count": null,
   "id": "ec693081-6df5-42c0-b366-59568d71d692",
   "metadata": {},
   "outputs": [],
   "source": [
    "import requests\n",
    "\n",
    "headers = {\n",
    "    'Accept': 'application/vnd.gravitino.v1+json',\n",
    "    'Content-Type': 'application/json',\n",
    "}\n",
    "\n",
    "response = requests.delete('http://gravitino:8090/api/metalakes/metalake_demo/roles/role1', headers=headers)\n",
    "\n",
    "# print the response text (the content of the requested file):\n",
    "print(response.text)"
   ]
  },
  {
   "cell_type": "code",
   "execution_count": null,
   "id": "7d8a8023-5f1d-41f8-8ab0-ca763c45f128",
   "metadata": {},
   "outputs": [],
   "source": [
    "spark.sql(\"show tables in access_control\").show()"
   ]
  },
  {
   "cell_type": "code",
   "execution_count": null,
   "id": "f4cee83a-ff23-466e-964b-4aae2c42f97a",
   "metadata": {},
   "outputs": [],
   "source": [
    "from pyspark.sql.utils import AnalysisException\n",
    "\n",
    "try:\n",
    "    spark.sql(\"use catalog_hive\")\n",
    "    spark.sql(\"use access_control;\")\n",
    "    spark.sql(\"SELECT * from employees\").show()\n",
    "except AnalysisException as e:\n",
    "    print(\"An error occurred: \", e)"
   ]
  }
 ],
 "metadata": {
  "kernelspec": {
   "display_name": "Python 3 (ipykernel)",
   "language": "python",
   "name": "python3"
  },
  "language_info": {
   "codemirror_mode": {
    "name": "ipython",
    "version": 3
   },
   "file_extension": ".py",
   "mimetype": "text/x-python",
   "name": "python",
   "nbconvert_exporter": "python",
   "pygments_lexer": "ipython3",
   "version": "3.11.5"
  }
 },
 "nbformat": 4,
 "nbformat_minor": 5
}
